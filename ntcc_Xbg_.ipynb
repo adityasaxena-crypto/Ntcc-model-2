{
  "nbformat": 4,
  "nbformat_minor": 0,
  "metadata": {
    "colab": {
      "name": "ntcc Xbg .ipynb",
      "provenance": [],
      "authorship_tag": "ABX9TyPfoA0DtJWVQdX0k8NeDEEr",
      "include_colab_link": true
    },
    "kernelspec": {
      "name": "python3",
      "display_name": "Python 3"
    },
    "language_info": {
      "name": "python"
    }
  },
  "cells": [
    {
      "cell_type": "markdown",
      "metadata": {
        "id": "view-in-github",
        "colab_type": "text"
      },
      "source": [
        "<a href=\"https://colab.research.google.com/github/adityasaxena-crypto/Ntcc-model-2/blob/main/ntcc_Xbg_.ipynb\" target=\"_parent\"><img src=\"https://colab.research.google.com/assets/colab-badge.svg\" alt=\"Open In Colab\"/></a>"
      ]
    },
    {
      "cell_type": "code",
      "metadata": {
        "colab": {
          "base_uri": "https://localhost:8080/"
        },
        "id": "BGZ3GnyS9HLS",
        "outputId": "2cfee587-7cca-4d62-e37e-b9e4cab3ced5"
      },
      "source": [
        "import pandas as pd\n",
        "import numpy as np\n",
        "import math\n",
        "import seaborn as sn\n",
        "import matplotlib.pyplot as plt\n",
        "from sklearn.tree import DecisionTreeClassifier\n",
        "from sklearn.model_selection import train_test_split\n",
        "from sklearn import metrics\n",
        "from sklearn.tree import export_graphviz\n",
        "from sklearn.externals.six import StringIO  \n",
        "from IPython.display import Image  \n",
        "import pydotplus"
      ],
      "execution_count": 3,
      "outputs": [
        {
          "output_type": "stream",
          "text": [
            "/usr/local/lib/python3.7/dist-packages/sklearn/externals/six.py:31: FutureWarning: The module is deprecated in version 0.21 and will be removed in version 0.23 since we've dropped support for Python 2.7. Please rely on the official version of six (https://pypi.org/project/six/).\n",
            "  \"(https://pypi.org/project/six/).\", FutureWarning)\n"
          ],
          "name": "stderr"
        }
      ]
    },
    {
      "cell_type": "markdown",
      "metadata": {
        "id": "O9-3EN6cBj4p"
      },
      "source": [
        "1-Contains 220314 readings by 51 sensors taken at an interval of 1 minute over a period of 5 months for a large-scale industrial pump.\n",
        "2-Each sensor makes some important measurement used to determine the working condition of the pump, like vibration, operative voltage, current drawn, heat generated, RPM etc.\n",
        "3-The column 'machine_status' indicates the current working condition of the pump. If it is 0, it indicates that the pump is working as expected. If it is 1, the pump is malfunctioning and need repair."
      ]
    },
    {
      "cell_type": "markdown",
      "metadata": {
        "id": "7el836KuBj0L"
      },
      "source": [
        ""
      ]
    },
    {
      "cell_type": "code",
      "metadata": {
        "colab": {
          "base_uri": "https://localhost:8080/"
        },
        "id": "n_583hY2-MMP",
        "outputId": "7615af70-6641-4a88-acff-26e5ca585ef2"
      },
      "source": [
        "sensor_data = pd.read_csv(\"sensor.csv\")\n",
        "sensor_data = sensor_data.dropna()\n",
        "print(sensor_data)\n"
      ],
      "execution_count": 5,
      "outputs": [
        {
          "output_type": "stream",
          "text": [
            "        ID  sensor_00  sensor_01  ...  sensor_50  machine_status      timestamp\n",
            "0        1   2.465394   47.09201  ...   201.3889             0.0  01-04-18 0:00\n",
            "1        2   2.465394   47.09201  ...   201.3889             0.0  01-04-18 0:01\n",
            "2        3   2.444734   47.35243  ...   203.7037             0.0  01-04-18 0:02\n",
            "3        4   2.460474   47.09201  ...   203.1250             0.0  01-04-18 0:03\n",
            "4        5   2.445718   47.13541  ...   201.3889             0.0  01-04-18 0:04\n",
            "...    ...        ...        ...  ...        ...             ...            ...\n",
            "4901  4902   2.424074   52.30035  ...   168.4028             0.0  04-04-18 9:41\n",
            "4902  4903   2.415220   52.30035  ...   168.9815             0.0  04-04-18 9:42\n",
            "4903  4904   2.427026   52.34375  ...   169.5602             0.0  04-04-18 9:43\n",
            "4904  4905   2.414236   52.34375  ...   169.2708             0.0  04-04-18 9:44\n",
            "4905  4906   2.419155   52.30035  ...   168.1134             0.0  04-04-18 9:45\n",
            "\n",
            "[4876 rows x 54 columns]\n"
          ],
          "name": "stdout"
        }
      ]
    },
    {
      "cell_type": "code",
      "metadata": {
        "id": "CAC2GhLi-Og_"
      },
      "source": [
        "col_names = sensor_data.columns\n",
        "#print(col_names)\n",
        "indep_vars = col_names[1:52]\n",
        "depep_vars = col_names[52]"
      ],
      "execution_count": 6,
      "outputs": []
    },
    {
      "cell_type": "code",
      "metadata": {
        "colab": {
          "base_uri": "https://localhost:8080/"
        },
        "id": "NJXtXA1cAebJ",
        "outputId": "c5bd0404-0975-4f11-cb2f-6844eacda662"
      },
      "source": [
        "rmse = np.sqrt(np.mean(y_pred - y_test)**2)\n",
        "rmse"
      ],
      "execution_count": 21,
      "outputs": [
        {
          "output_type": "execute_result",
          "data": {
            "text/plain": [
              "0.0"
            ]
          },
          "metadata": {
            "tags": []
          },
          "execution_count": 21
        }
      ]
    },
    {
      "cell_type": "code",
      "metadata": {
        "colab": {
          "base_uri": "https://localhost:8080/"
        },
        "id": "rttHdvxt-xHn",
        "outputId": "dc62c4a0-f6ca-47d9-cc93-e8e331adb0e7"
      },
      "source": [
        "clf.score(X_test,y_test)"
      ],
      "execution_count": 19,
      "outputs": [
        {
          "output_type": "execute_result",
          "data": {
            "text/plain": [
              "1.0"
            ]
          },
          "metadata": {
            "tags": []
          },
          "execution_count": 19
        }
      ]
    },
    {
      "cell_type": "code",
      "metadata": {
        "colab": {
          "base_uri": "https://localhost:8080/"
        },
        "id": "BQwvr__X-r9P",
        "outputId": "2307cb25-4366-4268-b76f-eff040b51fba"
      },
      "source": [
        "from xgboost import XGBClassifier\n",
        "model = XGBClassifier(n_estimators=1000)\n",
        "model.fit(X_train, y_train)\n",
        "model.score(X_test , y_test)"
      ],
      "execution_count": 24,
      "outputs": [
        {
          "output_type": "execute_result",
          "data": {
            "text/plain": [
              "1.0"
            ]
          },
          "metadata": {
            "tags": []
          },
          "execution_count": 24
        }
      ]
    },
    {
      "cell_type": "code",
      "metadata": {
        "colab": {
          "base_uri": "https://localhost:8080/"
        },
        "id": "yGkxdWnGBv0g",
        "outputId": "0b72811b-bbc0-46a7-d85a-e1b9bab37d7d"
      },
      "source": [
        "from sklearn.neighbors import KNeighborsClassifier\n",
        "classifier= KNeighborsClassifier(n_neighbors=50, metric='minkowski', p=2 )  \n",
        "classifier.fit(X_train, y_train) \n",
        "classifier.score(X_test,y_test)"
      ],
      "execution_count": 27,
      "outputs": [
        {
          "output_type": "execute_result",
          "data": {
            "text/plain": [
              "1.0"
            ]
          },
          "metadata": {
            "tags": []
          },
          "execution_count": 27
        }
      ]
    }
  ]
}